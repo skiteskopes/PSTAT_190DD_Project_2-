{
 "cells": [
  {
   "cell_type": "markdown",
   "metadata": {},
   "source": [
    "# Project Part 2 Solutions"
   ]
  },
  {
   "cell_type": "markdown",
   "metadata": {},
   "source": [
    "## (a)"
   ]
  },
  {
   "cell_type": "code",
   "execution_count": 49,
   "metadata": {},
   "outputs": [],
   "source": [
    "import numpy as np\n",
    "\n",
    "file=np.load(\"part2.npz\")\n",
    "beta_old=file['beta_old']\n",
    "N=file['N']\n",
    "Svc_0_PMF=file['Svc_0_PMF']\n",
    "Lc=file['Lc']\n",
    "Ic_0=file['Ic_0']\n",
    "gamma=file['gamma']\n",
    "L_observed=file['L_observed']\n",
    "nb_nodes = Svc_0_PMF.shape[0]"
   ]
  },
  {
   "cell_type": "code",
   "execution_count": 50,
   "metadata": {},
   "outputs": [],
   "source": [
    "def SIR(t, Z, N, betas, gamma):\n",
    "    (S_vec, I_vec, R) = (Z[:16].reshape(4, 4), Z[16:20], Z[-1])\n",
    "    I = I_vec.sum()\n",
    "    dSdt = -betas*S_vec*I/N \n",
    "    dIdt = -dSdt.sum(axis=0)-gamma*I_vec\n",
    "    dRdt = np.array([gamma*I])\n",
    "    return np.concatenate((dSdt.flatten(), dIdt, dRdt))"
   ]
  },
  {
   "cell_type": "code",
   "execution_count": 61,
   "metadata": {},
   "outputs": [
    {
     "name": "stdout",
     "output_type": "stream",
     "text": [
      "Node index ranked from highest predicted alpha value to lowest predicted alpha value:\n",
      "\n",
      "88 : 0.9532714843750012\n",
      "97 : 0.9282318115234385\n",
      "39 : 0.8635772705078135\n",
      "3 : 0.7097541809082037\n",
      "82 : 0.698361206054688\n",
      "46 : 0.6943862915039066\n",
      "99 : 0.6838226318359379\n",
      "4 : 0.6778827667236333\n",
      "29 : 0.6604969024658207\n",
      "55 : 0.6509254455566411\n",
      "77 : 0.645151519775391\n",
      "35 : 0.6384799003601078\n",
      "34 : 0.5956703186035159\n",
      "18 : 0.5807563781738283\n",
      "76 : 0.5627861022949219\n",
      "59 : 0.5542316436767578\n",
      "17 : 0.5529579162597658\n",
      "87 : 0.536046600341797\n",
      "57 : 0.5210838317871094\n",
      "65 : 0.5083087921142578\n",
      "89 : 0.5070587158203126\n",
      "81 : 0.5023948669433593\n",
      "22 : 0.48616943359375003\n",
      "28 : 0.47091369628906243\n",
      "68 : 0.4564775466918945\n",
      "73 : 0.44996871948242184\n",
      "94 : 0.4487113952636718\n",
      "41 : 0.4375556945800781\n",
      "45 : 0.43438644409179683\n",
      "42 : 0.42476272583007807\n",
      "67 : 0.41876068115234366\n",
      "63 : 0.4178750991821289\n",
      "40 : 0.4144542694091795\n",
      "74 : 0.4092250823974609\n",
      "36 : 0.39033279418945305\n",
      "1 : 0.386005687713623\n",
      "32 : 0.38393640518188465\n",
      "8 : 0.3794620513916014\n",
      "78 : 0.37071952819824205\n",
      "26 : 0.3696044921874999\n",
      "60 : 0.3620712280273436\n",
      "83 : 0.3584449768066405\n",
      "6 : 0.35759277343749984\n",
      "7 : 0.3565773010253904\n",
      "91 : 0.35234146118164045\n",
      "62 : 0.3498199462890624\n",
      "24 : 0.3335533142089842\n",
      "80 : 0.333131408691406\n",
      "71 : 0.33074188232421864\n",
      "52 : 0.32988424301147445\n",
      "11 : 0.3296844482421873\n",
      "47 : 0.32382240295410136\n",
      "12 : 0.31420326232910134\n",
      "23 : 0.3096664428710936\n",
      "21 : 0.3043716430664061\n",
      "85 : 0.3042276382446287\n",
      "31 : 0.3032081604003904\n",
      "30 : 0.29938507080078103\n",
      "75 : 0.29929790496826153\n",
      "72 : 0.2930549621582029\n",
      "38 : 0.2879989624023436\n",
      "61 : 0.28661499023437476\n",
      "10 : 0.2828376770019529\n",
      "84 : 0.2800548553466794\n",
      "86 : 0.2730194091796873\n",
      "58 : 0.2716991424560544\n",
      "20 : 0.26948547363281233\n",
      "53 : 0.2675781249999998\n",
      "64 : 0.2599151611328123\n",
      "92 : 0.25798072814941375\n",
      "98 : 0.25120544433593733\n",
      "44 : 0.24894256591796854\n",
      "48 : 0.24464416503906228\n",
      "15 : 0.24157104492187476\n",
      "0 : 0.23352260589599588\n",
      "93 : 0.23042831420898413\n",
      "2 : 0.22739639282226537\n",
      "49 : 0.218592834472656\n",
      "13 : 0.21623344421386695\n",
      "27 : 0.21408805847167944\n",
      "51 : 0.21285324096679664\n",
      "5 : 0.20684661865234347\n",
      "95 : 0.20612487792968726\n",
      "79 : 0.2041965484619138\n",
      "66 : 0.20330657958984347\n",
      "16 : 0.20032043457031223\n",
      "56 : 0.19024658203124972\n",
      "9 : 0.1871124267578122\n",
      "43 : 0.1860321044921872\n",
      "19 : 0.18221588134765596\n",
      "54 : 0.17960815429687474\n",
      "33 : 0.1761230468749997\n",
      "90 : 0.17155456542968722\n",
      "37 : 0.17086448669433565\n",
      "25 : 0.1685176849365231\n",
      "70 : 0.1630523681640622\n",
      "69 : 0.16158866882324188\n",
      "96 : 0.15996417999267554\n",
      "50 : 0.14959411621093716\n",
      "14 : 0.13437318801879852\n"
     ]
    }
   ],
   "source": [
    "from scipy.integrate import solve_ivp\n",
    "from scipy.optimize import fmin\n",
    "from sklearn.metrics import mean_squared_error\n",
    "import copy \n",
    "Svc_0_PMF /= Svc_0_PMF.sum(axis=(1, 2), keepdims=True)\n",
    "Svc_0 = (N-Ic_0.sum(axis=1))[:, np.newaxis, np.newaxis]*Svc_0_PMF\n",
    "Svc_0 = Svc_0.round().astype(int)\n",
    "R0 = np.zeros((nb_nodes)).astype(int)\n",
    "\n",
    "t = np.linspace(0, 199, 200)\n",
    "\n",
    "S = np.zeros((nb_nodes, 4, 4, len(t)))\n",
    "I = np.zeros((nb_nodes, 4, len(t)))\n",
    "R = np.zeros((nb_nodes, len(t)))\n",
    "L = np.zeros((nb_nodes, len(t)))\n",
    "\n",
    "for N_node, node_index in zip(N, range(nb_nodes)):\n",
    "\n",
    "    initial_conditions = np.concatenate(\n",
    "        (Svc_0[node_index].flatten(), Ic_0[node_index], [R0[node_index]]))  \n",
    "\n",
    "    soln = solve_ivp(\n",
    "        SIR, (t[0], t[9]), initial_conditions, args=(N_node, beta_old, gamma), t_eval=t[:10])\n",
    "\n",
    "    S[node_index, :, :, :10] = soln.y[:16].reshape(4, 4, -1)\n",
    "    I[node_index, :, :10] = soln.y[16:20]\n",
    "    R[node_index, :10] = soln.y[20]\n",
    "    L[node_index, :10] = Lc@soln.y[16:20]\n",
    "\n",
    "\n",
    "alpha_predicted = np.zeros((nb_nodes))\n",
    "\n",
    "\n",
    "def loss_func(alpha):   \n",
    "    beta_new = beta_old * alpha     \n",
    "    day_9_initial = np.concatenate( \n",
    "    (S[node_index, :, :, 9].flatten(), I[node_index, :, 9], [R[node_index, 9]]))  \n",
    "\n",
    "    day10_29_pred = solve_ivp( \n",
    "        SIR, (t[9], t[30]), day_9_initial, args = (N_node, beta_new, gamma), t_eval = t[9:30])    \n",
    "    L_pred = Lc@day10_29_pred.y[16:20] #day 9 is stuck in there i made it 21 values for a reason and then delete day 9     \n",
    "    #L_pred = np.delete(L_pred,0)\n",
    "    L_actual = L_observed[node_index][9:30]   \n",
    "    mse = mean_squared_error(L_actual,L_pred)\n",
    "    return mse\n",
    "\n",
    "\n",
    "for N_node, node_index in zip(N, range(nb_nodes)):  \n",
    "    alpha_predicted[node_index] = fmin(loss_func, 0.5, disp=False,ftol=1e-6)\n",
    "alpha_copy = copy.deepcopy(alpha_predicted)\n",
    "print(\"Node index ranked from highest predicted alpha value to lowest predicted alpha value:\\n\")  \n",
    "for i in range(100):    \n",
    "    index = np.argmax(alpha_copy)\n",
    "    print(str(index)+\" : \"+str(alpha_copy[index])) \n",
    "    alpha_copy[index] = -1000 \n",
    "  \n"
   ]
  },
  {
   "cell_type": "markdown",
   "metadata": {},
   "source": [
    "## (b)"
   ]
  },
  {
   "cell_type": "code",
   "execution_count": null,
   "metadata": {},
   "outputs": [],
   "source": [
    "def g(money):\n",
    "    alpha = 1/np.log2(2*10**(-3)*money+2)\n",
    "    return alpha\n",
    "\n",
    "def g_inv(alpha):\n",
    "    money = (2**(1/alpha)-2)/(2*10**(-3))\n",
    "    return money\n",
    "    import matplotlib.pyplot as plt \n",
    "\n",
    "def scatter_plot(alpha_afterNPI):\n",
    "    plt.figure()\n",
    "    colors=(beta_old[np.newaxis,:,:]*Svc_0_PMF).mean(axis=(1,2))\n",
    "    plt.scatter(alpha_predicted, alpha_afterNPI, s=N/500, c=colors, cmap='jet', alpha=0.5)\n",
    "    plt.xlabel(r\"$\\alpha_{own}$\")\n",
    "    plt.ylabel(r\"$\\alpha_{after\\ NPI}$\")\n",
    "\n",
    "def total_recovered_difference(alpha_afterNPI):\n",
    "    \n",
    "    ###### WRITE YOUR FUNCTION HERE\n",
    "    \n",
    "    return difference"
   ]
  },
  {
   "cell_type": "markdown",
   "metadata": {},
   "source": [
    "### Policy #1"
   ]
  },
  {
   "cell_type": "markdown",
   "metadata": {},
   "source": [
    "i."
   ]
  },
  {
   "cell_type": "markdown",
   "metadata": {},
   "source": [
    "ii."
   ]
  },
  {
   "cell_type": "code",
   "execution_count": null,
   "metadata": {},
   "outputs": [],
   "source": []
  },
  {
   "cell_type": "markdown",
   "metadata": {},
   "source": [
    "### Policy #2"
   ]
  },
  {
   "cell_type": "markdown",
   "metadata": {},
   "source": [
    "i. "
   ]
  },
  {
   "cell_type": "markdown",
   "metadata": {},
   "source": [
    "ii."
   ]
  },
  {
   "cell_type": "markdown",
   "metadata": {},
   "source": [
    "### Policy #3"
   ]
  },
  {
   "cell_type": "markdown",
   "metadata": {},
   "source": [
    "i."
   ]
  },
  {
   "cell_type": "markdown",
   "metadata": {},
   "source": [
    "ii."
   ]
  },
  {
   "cell_type": "markdown",
   "metadata": {},
   "source": [
    "### Policy #4"
   ]
  },
  {
   "cell_type": "markdown",
   "metadata": {},
   "source": [
    "i."
   ]
  },
  {
   "cell_type": "markdown",
   "metadata": {},
   "source": [
    "ii."
   ]
  },
  {
   "cell_type": "markdown",
   "metadata": {},
   "source": [
    "## (c)"
   ]
  },
  {
   "cell_type": "markdown",
   "metadata": {},
   "source": [
    "### Policy 1"
   ]
  },
  {
   "cell_type": "markdown",
   "metadata": {},
   "source": [
    "### Policy 2"
   ]
  },
  {
   "cell_type": "markdown",
   "metadata": {},
   "source": [
    "### Policy 3"
   ]
  },
  {
   "cell_type": "markdown",
   "metadata": {},
   "source": [
    "### Policy 4"
   ]
  }
 ],
 "metadata": {
  "kernelspec": {
   "display_name": "Python 3",
   "language": "python",
   "name": "python3"
  },
  "language_info": {
   "codemirror_mode": {
    "name": "ipython",
    "version": 3
   },
   "file_extension": ".py",
   "mimetype": "text/x-python",
   "name": "python",
   "nbconvert_exporter": "python",
   "pygments_lexer": "ipython3",
   "version": "3.7.4"
  }
 },
 "nbformat": 4,
 "nbformat_minor": 2
}
