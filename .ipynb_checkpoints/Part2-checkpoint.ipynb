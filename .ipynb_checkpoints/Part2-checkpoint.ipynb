{
 "cells": [
  {
   "cell_type": "markdown",
   "metadata": {},
   "source": [
    "# Project Part 2 Solutions"
   ]
  },
  {
   "cell_type": "markdown",
   "metadata": {},
   "source": [
    "## (a)"
   ]
  },
  {
   "cell_type": "code",
   "execution_count": 1,
   "metadata": {},
   "outputs": [],
   "source": [
    "import numpy as np\n",
    "\n",
    "file=np.load(\"part2.npz\")\n",
    "beta_old=file['beta_old']\n",
    "N=file['N']\n",
    "Svc_0_PMF=file['Svc_0_PMF']\n",
    "Lc=file['Lc']\n",
    "Ic_0=file['Ic_0']\n",
    "gamma=file['gamma']\n",
    "L_observed=file['L_observed']\n",
    "nb_nodes = Svc_0_PMF.shape[0]"
   ]
  },
  {
   "cell_type": "code",
   "execution_count": 2,
   "metadata": {},
   "outputs": [],
   "source": [
    "def SIR(t, Z, N, betas, gamma):\n",
    "    (S_vec, I_vec, R) = (Z[:16].reshape(4, 4), Z[16:20], Z[-1])\n",
    "    I = I_vec.sum()\n",
    "    dSdt = -betas*S_vec*I/N \n",
    "    dIdt = -dSdt.sum(axis=0)-gamma*I_vec\n",
    "    dRdt = np.array([gamma*I])\n",
    "    return np.concatenate((dSdt.flatten(), dIdt, dRdt))"
   ]
  },
  {
   "cell_type": "code",
   "execution_count": 78,
   "metadata": {},
   "outputs": [
    {
     "name": "stdout",
     "output_type": "stream",
     "text": [
      "Node index ranked from highest alpha value to lowest alpha value:\n",
      "\n",
      "39 : 0.9680572509765637\n",
      "88 : 0.964379882812501\n",
      "97 : 0.921044921875001\n",
      "3 : 0.7923004150390633\n",
      "46 : 0.7458068847656257\n",
      "55 : 0.6819274902343755\n",
      "29 : 0.6758773803710942\n",
      "77 : 0.6618408203125004\n",
      "4 : 0.6543701171875005\n",
      "35 : 0.6341918945312504\n",
      "34 : 0.6327178955078128\n",
      "76 : 0.6192871093750003\n",
      "18 : 0.5953186035156253\n",
      "87 : 0.5874755859375003\n",
      "59 : 0.5637176513671878\n",
      "57 : 0.5396667480468751\n",
      "73 : 0.5128662109375\n",
      "65 : 0.5049072265625\n",
      "81 : 0.5022125244140625\n",
      "89 : 0.48231201171875\n",
      "82 : 0.4801391601562499\n",
      "17 : 0.47667236328125\n",
      "28 : 0.47004394531249993\n",
      "99 : 0.4633422851562499\n",
      "74 : 0.4596603393554687\n",
      "68 : 0.4509994506835937\n",
      "41 : 0.44651489257812493\n",
      "22 : 0.43751831054687496\n",
      "63 : 0.4317321777343749\n",
      "1 : 0.4140686035156249\n",
      "32 : 0.4076278686523437\n",
      "60 : 0.39542236328124997\n",
      "94 : 0.394464111328125\n",
      "78 : 0.39003906249999987\n",
      "83 : 0.3672180175781249\n",
      "26 : 0.36720581054687484\n",
      "42 : 0.36651000976562487\n",
      "47 : 0.3655258178710936\n",
      "40 : 0.36502456665039046\n",
      "45 : 0.3597686767578124\n",
      "91 : 0.34724121093749993\n",
      "80 : 0.34622497558593734\n",
      "52 : 0.3446044921874999\n",
      "71 : 0.3394165039062498\n",
      "24 : 0.3383239746093749\n",
      "67 : 0.3340820312499999\n",
      "62 : 0.3321044921874998\n",
      "6 : 0.3206848144531249\n",
      "12 : 0.3197998046874999\n",
      "7 : 0.3197830200195311\n",
      "75 : 0.3172637939453124\n",
      "31 : 0.31469116210937487\n",
      "8 : 0.3143371582031248\n",
      "36 : 0.3120849609374998\n",
      "11 : 0.3072265624999998\n",
      "72 : 0.30688476562499983\n",
      "84 : 0.30123138427734364\n",
      "38 : 0.2953857421874999\n",
      "10 : 0.28980712890624977\n",
      "20 : 0.28569335937499984\n",
      "53 : 0.2771057128906248\n",
      "58 : 0.276002502441406\n",
      "30 : 0.2742553710937498\n",
      "85 : 0.2688690185546873\n",
      "92 : 0.26793823242187476\n",
      "64 : 0.2653015136718748\n",
      "61 : 0.2582885742187498\n",
      "23 : 0.25500488281249967\n",
      "21 : 0.25475158691406224\n",
      "44 : 0.2532165527343747\n",
      "0 : 0.24009399414062474\n",
      "86 : 0.2390914916992185\n",
      "93 : 0.23764038085937475\n",
      "48 : 0.23627929687499977\n",
      "2 : 0.23623046874999978\n",
      "49 : 0.23000488281249978\n",
      "27 : 0.22787170410156227\n",
      "98 : 0.22691650390624973\n",
      "15 : 0.22617187499999974\n",
      "13 : 0.22277526855468727\n",
      "95 : 0.21939697265624974\n",
      "66 : 0.21547851562499976\n",
      "79 : 0.21489257812499973\n",
      "5 : 0.21451721191406226\n",
      "51 : 0.20393066406249974\n",
      "16 : 0.1996704101562497\n",
      "43 : 0.18836059570312472\n",
      "56 : 0.1879394531249997\n",
      "33 : 0.18420104980468727\n",
      "9 : 0.1825439453124997\n",
      "90 : 0.1796386718749997\n",
      "37 : 0.17554321289062472\n",
      "96 : 0.16673583984374973\n",
      "19 : 0.1601684570312497\n",
      "70 : 0.1594970703124997\n",
      "54 : 0.1580566406249997\n",
      "50 : 0.1578124999999997\n",
      "69 : 0.15485687255859343\n",
      "25 : 0.15430755615234346\n",
      "14 : 0.12566528320312467\n"
     ]
    }
   ],
   "source": [
    "from scipy.integrate import solve_ivp\n",
    "from scipy.optimize import fmin\n",
    "from sklearn.metrics import mean_squared_error\n",
    "import copy \n",
    "Svc_0_PMF /= Svc_0_PMF.sum(axis=(1, 2), keepdims=True)\n",
    "Svc_0 = (N-Ic_0.sum(axis=1))[:, np.newaxis, np.newaxis]*Svc_0_PMF\n",
    "Svc_0 = Svc_0.round().astype(int)\n",
    "R0 = np.zeros((nb_nodes)).astype(int)\n",
    "\n",
    "t = np.linspace(0, 199, 200)\n",
    "\n",
    "S = np.zeros((nb_nodes, 4, 4, len(t)))\n",
    "I = np.zeros((nb_nodes, 4, len(t)))\n",
    "R = np.zeros((nb_nodes, len(t)))\n",
    "L = np.zeros((nb_nodes, len(t)))\n",
    "\n",
    "for N_node, node_index in zip(N, range(nb_nodes)):\n",
    "\n",
    "    initial_conditions = np.concatenate(\n",
    "        (Svc_0[node_index].flatten(), Ic_0[node_index], [R0[node_index]]))  \n",
    "\n",
    "    soln = solve_ivp(\n",
    "        SIR, (t[0], t[9]), initial_conditions, args=(N_node, beta_old, gamma), t_eval=t[:10])\n",
    "\n",
    "    S[node_index, :, :, :10] = soln.y[:16].reshape(4, 4, -1)\n",
    "    I[node_index, :, :10] = soln.y[16:20]\n",
    "    R[node_index, :10] = soln.y[20]\n",
    "    L[node_index, :10] = Lc@soln.y[16:20]\n",
    "\n",
    "\n",
    "alpha_predicted = np.zeros((nb_nodes))\n",
    "\n",
    "\n",
    "def loss_func(alpha):   \n",
    "    beta_new = beta_old * alpha   \n",
    "    day_9_initial = np.concatenate( \n",
    "    (S[node_index, :, :, :10].transpose()[9].flatten(), I[node_index, :, :10].transpose()[9], [R[node_index, :10].transpose()[9]]))  \n",
    "\n",
    "    day10_29_pred = solve_ivp( \n",
    "        SIR, (t[0], t[21]), day_9_initial, args = (N_node, beta_new, gamma), t_eval = t[0:21])    \n",
    "    L_pred = np.delete(Lc@day10_29_pred.y[16:20],0) #day 9 is stuck in there i made it 21 values for a reason and then delete day 9\n",
    "    L_actual = L_observed[node_index][10:30]    \n",
    "    \"\"\"  \n",
    "    this was a sanity index check to make sure the day 9's are the same \n",
    "    print(L_observed[node_index][9]) \n",
    "    print(L[node_index, :10].transpose()[9])  \n",
    "    \"\"\"  \n",
    "    mse = mean_squared_error(L_actual,L_pred)\n",
    "    return mse\n",
    "\n",
    "\n",
    "for N_node, node_index in zip(N, range(nb_nodes)):  \n",
    "    alpha_predicted[node_index] = fmin(loss_func, 0.5, disp=False)\n",
    "alpha_copy = copy.deepcopy(alpha_predicted)\n",
    "print(\"Node index ranked from highest predicted alpha value to lowest predicted alpha value:\\n\")  \n",
    "for i in range(100):    \n",
    "    index = np.argmax(alpha_copy)\n",
    "    print(str(index)+\" : \"+str(alpha_copy[index])) \n",
    "    alpha_copy[index] = -1000 \n",
    "    \n",
    "    "
   ]
  },
  {
   "cell_type": "markdown",
   "metadata": {},
   "source": [
    "## (b)"
   ]
  },
  {
   "cell_type": "code",
   "execution_count": null,
   "metadata": {},
   "outputs": [],
   "source": [
    "def g(money):\n",
    "    alpha = 1/np.log2(2*10**(-3)*money+2)\n",
    "    return alpha\n",
    "\n",
    "def g_inv(alpha):\n",
    "    money = (2**(1/alpha)-2)/(2*10**(-3))\n",
    "    return money\n",
    "    import matplotlib.pyplot as plt \n",
    "\n",
    "def scatter_plot(alpha_afterNPI):\n",
    "    plt.figure()\n",
    "    colors=(beta_old[np.newaxis,:,:]*Svc_0_PMF).mean(axis=(1,2))\n",
    "    plt.scatter(alpha_predicted, alpha_afterNPI, s=N/500, c=colors, cmap='jet', alpha=0.5)\n",
    "    plt.xlabel(r\"$\\alpha_{own}$\")\n",
    "    plt.ylabel(r\"$\\alpha_{after\\ NPI}$\")\n",
    "\n",
    "def total_recovered_difference(alpha_afterNPI):\n",
    "    \n",
    "    ###### WRITE YOUR FUNCTION HERE\n",
    "    \n",
    "    return difference"
   ]
  },
  {
   "cell_type": "markdown",
   "metadata": {},
   "source": [
    "### Policy #1"
   ]
  },
  {
   "cell_type": "markdown",
   "metadata": {},
   "source": [
    "i."
   ]
  },
  {
   "cell_type": "markdown",
   "metadata": {},
   "source": [
    "ii."
   ]
  },
  {
   "cell_type": "code",
   "execution_count": null,
   "metadata": {},
   "outputs": [],
   "source": []
  },
  {
   "cell_type": "markdown",
   "metadata": {},
   "source": [
    "### Policy #2"
   ]
  },
  {
   "cell_type": "markdown",
   "metadata": {},
   "source": [
    "i. "
   ]
  },
  {
   "cell_type": "markdown",
   "metadata": {},
   "source": [
    "ii."
   ]
  },
  {
   "cell_type": "markdown",
   "metadata": {},
   "source": [
    "### Policy #3"
   ]
  },
  {
   "cell_type": "markdown",
   "metadata": {},
   "source": [
    "i."
   ]
  },
  {
   "cell_type": "markdown",
   "metadata": {},
   "source": [
    "ii."
   ]
  },
  {
   "cell_type": "markdown",
   "metadata": {},
   "source": [
    "### Policy #4"
   ]
  },
  {
   "cell_type": "markdown",
   "metadata": {},
   "source": [
    "i."
   ]
  },
  {
   "cell_type": "markdown",
   "metadata": {},
   "source": [
    "ii."
   ]
  },
  {
   "cell_type": "markdown",
   "metadata": {},
   "source": [
    "## (c)"
   ]
  },
  {
   "cell_type": "markdown",
   "metadata": {},
   "source": [
    "### Policy 1"
   ]
  },
  {
   "cell_type": "markdown",
   "metadata": {},
   "source": [
    "### Policy 2"
   ]
  },
  {
   "cell_type": "markdown",
   "metadata": {},
   "source": [
    "### Policy 3"
   ]
  },
  {
   "cell_type": "markdown",
   "metadata": {},
   "source": [
    "### Policy 4"
   ]
  }
 ],
 "metadata": {
  "kernelspec": {
   "display_name": "Python 3",
   "language": "python",
   "name": "python3"
  },
  "language_info": {
   "codemirror_mode": {
    "name": "ipython",
    "version": 3
   },
   "file_extension": ".py",
   "mimetype": "text/x-python",
   "name": "python",
   "nbconvert_exporter": "python",
   "pygments_lexer": "ipython3",
   "version": "3.7.4"
  }
 },
 "nbformat": 4,
 "nbformat_minor": 2
}
